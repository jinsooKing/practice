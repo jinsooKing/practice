{
 "cells": [
  {
   "cell_type": "code",
   "execution_count": 16,
   "id": "c7a1e531-dece-4e55-8678-f9eb44fe8756",
   "metadata": {},
   "outputs": [
    {
     "name": "stdin",
     "output_type": "stream",
     "text": [
      " 2\n",
      " 1 2\n",
      " 1\n"
     ]
    },
    {
     "name": "stdout",
     "output_type": "stream",
     "text": [
      "1\n"
     ]
    }
   ],
   "source": [
    "import numpy as np\n",
    "\n",
    "N = int(input())\n",
    "L = list(map(int, input().split( )))\n",
    "\n",
    "count = np.array(L)\n",
    "\n",
    "key_arr, counts_arr = np.unique(count, return_counts = True) \n",
    "# unique 함수는 중복된 값을 제거한 배열을 반환하고 return_counts = True를 사용하면 중복개수도 함께 반환한다.\n",
    "count_dict = dict(zip(key_arr, counts_arr))\n",
    "\n",
    "X = int(input())\n",
    "\n",
    "if X in key_arr:\n",
    "    print(counts_arr[list(key_arr).index(X)])\n",
    "else:\n",
    "    print('0')"
   ]
  },
  {
   "cell_type": "code",
   "execution_count": 15,
   "id": "345a8aad-1484-48f5-aaf9-7b74118adaf0",
   "metadata": {},
   "outputs": [
    {
     "name": "stdout",
     "output_type": "stream",
     "text": [
      "1\n"
     ]
    }
   ],
   "source": [
    "if X in key_arr:\n",
    "    print(counts_arr[list(key_arr).index(X)])\n",
    "else:\n",
    "    print('0')"
   ]
  },
  {
   "cell_type": "code",
   "execution_count": null,
   "id": "bd512539-bcc4-47d4-828c-90e3014c9af8",
   "metadata": {},
   "outputs": [],
   "source": []
  }
 ],
 "metadata": {
  "kernelspec": {
   "display_name": "Python 3 (ipykernel)",
   "language": "python",
   "name": "python3"
  },
  "language_info": {
   "codemirror_mode": {
    "name": "ipython",
    "version": 3
   },
   "file_extension": ".py",
   "mimetype": "text/x-python",
   "name": "python",
   "nbconvert_exporter": "python",
   "pygments_lexer": "ipython3",
   "version": "3.8.18"
  }
 },
 "nbformat": 4,
 "nbformat_minor": 5
}
