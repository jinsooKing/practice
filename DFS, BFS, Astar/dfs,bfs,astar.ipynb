{
 "cells": [
  {
   "cell_type": "code",
   "execution_count": 12,
   "id": "d5e9e322",
   "metadata": {},
   "outputs": [],
   "source": [
    "from problem import *\n",
    "\n",
    "def build_maze():\n",
    "    maze = [[0, 1, 0, 0, 0, 1, 0, 0, 0, 1, 0, 0, 0, 0, 1, 0, 0, 1, 0, 0],\n",
    "            [0, 1, 0, 1, 0, 1, 0, 0, 0, 1, 0, 1, 1, 1, 1, 0, 0, 1, 0, 0],\n",
    "            [0, 1, 0, 1, 0, 1, 0, 0, 0, 1, 1, 1, 0, 0, 0, 0, 0, 1, 0, 0],\n",
    "            [0, 1, 0, 1, 0, 1, 0, 0, 0, 1, 0, 0, 0, 0, 0, 1, 1, 1, 1, 1],\n",
    "            [1, 1, 1, 1, 0, 1, 0, 0, 0, 1, 1, 1, 0, 0, 1, 1, 0, 0, 0, 0],\n",
    "            [0, 0, 0, 1, 0, 1, 0, 0, 0, 0, 0, 1, 1, 1, 1, 0, 0, 0, 0, 0],\n",
    "            [0, 0, 0, 1, 0, 1, 0, 0, 0, 0, 0, 1, 0, 0, 0, 0, 0, 1, 1, 1],\n",
    "            [1, 1, 1, 1, 1, 1, 0, 0, 0, 0, 0, 1, 0, 0, 0, 0, 0, 1, 0, 0],\n",
    "            [0, 0, 0, 0, 0, 1, 0, 0, 0, 0, 1, 1, 1, 1, 1, 1, 1, 1, 0, 0],\n",
    "            [0, 0, 0, 1, 1, 1, 1, 1, 0, 0, 1, 0, 0, 0, 0, 0, 0, 1, 0, 0],\n",
    "            [0, 0, 0, 1, 0, 0, 0, 1, 0, 0, 1, 0, 0, 1, 1, 1, 0, 1, 1, 1],\n",
    "            [0, 0, 0, 1, 0, 0, 0, 1, 0, 0, 1, 0, 0, 0, 0, 1, 0, 0, 0, 0],\n",
    "            [0, 0, 0, 1, 0, 0, 0, 1, 1, 1, 1, 1, 1, 1, 1, 1, 0, 0, 0, 0],\n",
    "            [1, 1, 1, 1, 0, 0, 0, 0, 0, 0, 1, 0, 0, 0, 0, 0, 0, 1, 1, 0],\n",
    "            [0, 1, 0, 1, 0, 0, 0, 0, 0, 0, 1, 0, 0, 0, 0, 0, 0, 0, 1, 0],\n",
    "            [0, 1, 0, 1, 1, 1, 0, 0, 0, 0, 1, 1, 1, 1, 0, 1, 1, 1, 1, 1],\n",
    "            [0, 1, 0, 1, 0, 1, 0, 0, 0, 0, 1, 0, 0, 1, 0, 1, 0, 0, 0, 0],\n",
    "            [1, 1, 0, 1, 0, 1, 1, 1, 0, 0, 1, 0, 0, 1, 1, 1, 1, 1, 1, 0],\n",
    "            [0, 0, 0, 1, 0, 0, 0, 1, 0, 0, 1, 0, 0, 0, 0, 1, 0, 0, 1, 0],\n",
    "            [0, 0, 0, 1, 0, 0, 0, 1, 0, 0, 1, 0, 0, 0, 0, 1, 0, 0, 0, 0]]\n",
    "    start = [0, 5]\n",
    "    destination = [15, 19]\n",
    "    return maze, start, destination"
   ]
  },
  {
   "cell_type": "code",
   "execution_count": 13,
   "id": "c2d13601",
   "metadata": {},
   "outputs": [],
   "source": [
    "import numpy as np\n",
    "\n",
    "\n",
    "def build_graph(maze, start, destination):\n",
    "    \"\"\" Build a graph in adjacency list representation\n",
    "\n",
    "        You should assign the vertex index for each path (i, j) in the ascending order\n",
    "        of the number 100 * i + j. For example, if there exists only two paths in the \n",
    "        maze with coordinates (10, 10) and (10, 11). The path (10, 10) has the index 0. \n",
    "        The other one has the index 1.\n",
    "\n",
    "    Args:\n",
    "        maze (list): maze values represents whether there is a path (1) or not (0)\n",
    "        start (list): a start coordinate\n",
    "        destination (list): a destination coordinate\n",
    "\n",
    "    Returns:\n",
    "        graph (list): an adjacency list representation of maze graph\n",
    "        start (int): a start vertex index\n",
    "        destination (int): a destinatnon vertex index\n",
    "\n",
    "    \"\"\"\n",
    "    rows, cols = len(maze), len(maze[0])\n",
    "    graph = {}\n",
    "    vertex_index = {}\n",
    "    index_counter = 0\n",
    "\n",
    "    def get_index(i, j):\n",
    "        return 100 * i + j\n",
    "\n",
    "    def add_edge(u, v):\n",
    "        if u not in graph:\n",
    "            graph[u] = []\n",
    "        graph[u].append(v)\n",
    "        \n",
    "    for i in range(rows):\n",
    "        for j in range(cols):\n",
    "            if maze[i][j] == 1:\n",
    "                current_index = get_index(i, j)\n",
    "                vertex_index[(i, j)] = current_index\n",
    "                \n",
    "                neighbors = [(i + 1, j), (i - 1, j), (i, j + 1), (i, j - 1)]\n",
    "                for neighbor in neighbors:\n",
    "                    ni, nj = neighbor\n",
    "                    if 0 <= ni < rows and 0 <= nj < cols and maze[ni][nj] == 1:\n",
    "                        neighbor_index = get_index(ni, nj)\n",
    "                        add_edge(current_index, neighbor_index)\n",
    "\n",
    "    start = vertex_index[tuple(start)]\n",
    "    destination = vertex_index[tuple(destination)]\n",
    "\n",
    "    return graph, start, destination"
   ]
  },
  {
   "cell_type": "code",
   "execution_count": 3,
   "id": "35fd5a5f",
   "metadata": {},
   "outputs": [],
   "source": [
    "def dfs(graph, start, destination):\n",
    "    \"\"\" Find destination node using a depth first search (DFS) algorithm\n",
    "        \n",
    "        DFS should halt when it visits the destination vertex. \n",
    "        DFS should determine the next visit vertex in ascending order of vertex indices. \n",
    "        For example, if dfs currently visits the vertex 6 whose neighbors are 9, 3, 20, \n",
    "        then the next visited vertex will be 3.\n",
    "\n",
    "    Args:\n",
    "        graph (list): an adjacency list representation of maze graph\n",
    "        start (int): a start vertex index\n",
    "        destination (int): a destinatnon vertex index\n",
    "\n",
    "    Returns:\n",
    "        success (bool): True if visits the destination vertex. False otherwise\n",
    "        history (list): the vertex indices in visiting order\n",
    "    \"\"\"\n",
    "    stack = [start]\n",
    "    visited = set()\n",
    "    history = []\n",
    "\n",
    "    while stack:\n",
    "        current_vertex = stack.pop()\n",
    "        history.append(current_vertex)\n",
    "\n",
    "        if current_vertex == destination:\n",
    "            return True, history\n",
    "\n",
    "        if current_vertex not in visited:\n",
    "            visited.add(current_vertex)\n",
    "            neighbors = sorted(graph.get(current_vertex, []))\n",
    "            stack.extend(neighbors)\n",
    "\n",
    "    return False, history"
   ]
  },
  {
   "cell_type": "code",
   "execution_count": 4,
   "id": "8b53f804",
   "metadata": {},
   "outputs": [],
   "source": [
    "from collections import deque\n",
    "\n",
    "def bfs(graph, start, destination):\n",
    "    \"\"\" Find destination node using a breadth first search (BFS) algorithm.\n",
    "        \n",
    "    Args:\n",
    "        graph (list): an adjacency list representation of maze graph\n",
    "        start (int): a start vertex index\n",
    "        destination (int): a destinatnon vertex index\n",
    "\n",
    "    Returns:\n",
    "        success (bool): True if visits the destination vertex. False otherwise\n",
    "        history (list): the vertex indices in visiting order\n",
    "    \"\"\"\n",
    "    visited = set() \n",
    "    queue = deque([start]) \n",
    "    history = [] \n",
    "\n",
    "    while queue:\n",
    "        current_vertex = queue.popleft()\n",
    "        history.append(current_vertex)\n",
    "\n",
    "        if current_vertex == destination:\n",
    "            return True, history \n",
    "\n",
    "        visited.add(current_vertex)\n",
    "\n",
    "        for neighbor in graph.get(current_vertex, []):\n",
    "            if neighbor not in visited:\n",
    "                queue.append(neighbor)\n",
    "\n",
    "    return False, history\n"
   ]
  },
  {
   "cell_type": "code",
   "execution_count": 5,
   "id": "585c00b6",
   "metadata": {},
   "outputs": [],
   "source": [
    "import heapq\n",
    "\n",
    "def astar(graph, start, destination):\n",
    "    \"\"\" Find destination node using a A* algorithm.\n",
    "\n",
    "    Args:\n",
    "        graph (list): an adjacency list representation of maze graph\n",
    "        start (int): a start vertex index\n",
    "        destination (int): a destinatnon vertex index\n",
    "\n",
    "    Returns:\n",
    "        success (bool): True if visits the destination vertex. False otherwise\n",
    "        history (list): the vertex indices in visiting order\n",
    "    \"\"\"\n",
    "    def heuristic(node, destination): # 맨해튼 거리 함수\n",
    "        return abs(node // 100 - destination // 100) + abs(node % 100 - destination % 100) \n",
    "\n",
    "    priority_queue = [(heuristic(start, destination), 0, start)]\n",
    "    heapq.heapify(priority_queue)\n",
    "\n",
    "    # 방문 노드랑 비용\n",
    "    visited = {start: 0}\n",
    "    \n",
    "    history = []\n",
    "\n",
    "    while priority_queue:\n",
    "        _, cost, current_node = heapq.heappop(priority_queue)\n",
    "        \n",
    "        if current_node == destination:\n",
    "            return True, history + [current_node]\n",
    "\n",
    "        for neighbor in graph.get(current_node, []):\n",
    "            new_cost = cost + 1  \n",
    "            if neighbor not in visited or new_cost < visited[neighbor]:\n",
    "                visited[neighbor] = new_cost\n",
    "                heapq.heappush(priority_queue, (new_cost + heuristic(neighbor, destination), new_cost, neighbor))\n",
    "\n",
    "        history.append(current_node)\n",
    "\n",
    "    return False, history"
   ]
  },
  {
   "cell_type": "code",
   "execution_count": 6,
   "id": "055613db",
   "metadata": {},
   "outputs": [],
   "source": [
    "maze, start_coordinate, destination_coordinate = build_maze()\n",
    "graph, start_index, destination_index = build_graph(maze, start_coordinate, destination_coordinate)\n",
    "    \n",
    "dfs_success, dfs_history = dfs(graph, start_index, destination_index)\n",
    "bfs_success, bfs_history = bfs(graph, start_index, destination_index)\n",
    "astar_success, astar_history = astar(graph, start_index, destination_index)"
   ]
  },
  {
   "cell_type": "code",
   "execution_count": 7,
   "id": "5a97925d",
   "metadata": {
    "scrolled": true
   },
   "outputs": [
    {
     "data": {
      "text/plain": [
       "array([   5,  105,  205,  305,  405,  505,  605,  705,  805,  905,  906,\n",
       "        907, 1007, 1107, 1207, 1208, 1209, 1210, 1310, 1410, 1510, 1610,\n",
       "       1710, 1810, 1910, 1810, 1710, 1610, 1510, 1511, 1512, 1513, 1613,\n",
       "       1713, 1714, 1715, 1815, 1915, 1815, 1715, 1716, 1717, 1718, 1818,\n",
       "       1718, 1717, 1716, 1715, 1714, 1615, 1715, 1515, 1615, 1516, 1517,\n",
       "       1518, 1519])"
      ]
     },
     "execution_count": 7,
     "metadata": {},
     "output_type": "execute_result"
    }
   ],
   "source": [
    "np.array(dfs_history)"
   ]
  },
  {
   "cell_type": "code",
   "execution_count": 8,
   "id": "0b5d52dc",
   "metadata": {},
   "outputs": [
    {
     "data": {
      "text/plain": [
       "array([   5,  105,  205,  305,  405,  505,  605,  705,  805,  704,  905,\n",
       "        703,  906,  904,  603,  702,  907,  903,  503,  701, 1007, 1003,\n",
       "        403,  700, 1107, 1103,  303,  402, 1207, 1203,  203,  401, 1208,\n",
       "       1303,  103,  301,  400, 1209, 1403, 1302,  201, 1210, 1503, 1301,\n",
       "        101, 1310, 1110, 1211, 1603, 1504, 1401, 1300,    1, 1410, 1010,\n",
       "       1212, 1703, 1505, 1501, 1510,  910, 1213, 1803, 1605, 1601, 1610,\n",
       "       1511,  810, 1214, 1903, 1705, 1701, 1710, 1512,  811, 1215, 1706,\n",
       "       1700, 1810, 1513,  711,  812, 1115, 1707, 1910, 1613,  611,  813,\n",
       "       1015, 1807, 1713,  511,  814, 1014, 1907, 1714,  411,  512,  815,\n",
       "       1013, 1715,  410,  513,  816, 1815, 1615, 1716,  409,  514,  817,\n",
       "       1915, 1515, 1717,  309,  414,  917,  717, 1516, 1718,  209,  415,\n",
       "       1017,  617, 1517, 1818,  109,  210,  315, 1018,  618, 1518,    9,\n",
       "        211,  316, 1019,  619, 1418, 1519])"
      ]
     },
     "execution_count": 8,
     "metadata": {},
     "output_type": "execute_result"
    }
   ],
   "source": [
    "np.array(bfs_history)"
   ]
  },
  {
   "cell_type": "code",
   "execution_count": 9,
   "id": "5890070b",
   "metadata": {},
   "outputs": [
    {
     "data": {
      "text/plain": [
       "array([   5,  105,  205,  305,  405,  505,  605,  705,  805,  905,  906,\n",
       "        907, 1007, 1107, 1207, 1208, 1209, 1210, 1211, 1310, 1212, 1410,\n",
       "       1213, 1510, 1214, 1511, 1215, 1512, 1513,  704,  904, 1110, 1610,\n",
       "       1115, 1613,  703,  903, 1003, 1103, 1203, 1303, 1403, 1503, 1504,\n",
       "       1010, 1505, 1710, 1015, 1713, 1714, 1715, 1615, 1716, 1515, 1717,\n",
       "       1516, 1718, 1517, 1518, 1519])"
      ]
     },
     "execution_count": 9,
     "metadata": {},
     "output_type": "execute_result"
    }
   ],
   "source": [
    "np.array(astar_history)"
   ]
  },
  {
   "cell_type": "code",
   "execution_count": 10,
   "id": "bac5f542",
   "metadata": {},
   "outputs": [
    {
     "data": {
      "text/plain": [
       "57"
      ]
     },
     "execution_count": 10,
     "metadata": {},
     "output_type": "execute_result"
    }
   ],
   "source": [
    "len(dfs_history)"
   ]
  },
  {
   "cell_type": "code",
   "execution_count": 14,
   "id": "68b24bb5",
   "metadata": {},
   "outputs": [],
   "source": [
    "!python main.py"
   ]
  },
  {
   "cell_type": "code",
   "execution_count": null,
   "id": "a7bd6e59",
   "metadata": {},
   "outputs": [],
   "source": []
  }
 ],
 "metadata": {
  "kernelspec": {
   "display_name": "Python 3 (ipykernel)",
   "language": "python",
   "name": "python3"
  },
  "language_info": {
   "codemirror_mode": {
    "name": "ipython",
    "version": 3
   },
   "file_extension": ".py",
   "mimetype": "text/x-python",
   "name": "python",
   "nbconvert_exporter": "python",
   "pygments_lexer": "ipython3",
   "version": "3.8.18"
  }
 },
 "nbformat": 4,
 "nbformat_minor": 5
}
