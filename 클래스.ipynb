{
 "cells": [
  {
   "cell_type": "code",
   "execution_count": 1,
   "id": "64d7acd6-f135-4a8d-b426-6e5f53081216",
   "metadata": {},
   "outputs": [],
   "source": [
    "# 회원가입 클래스와 회원 정보를 관리하는 클래스를 만들고 로그인 기능 구현"
   ]
  },
  {
   "cell_type": "code",
   "execution_count": 33,
   "id": "30d0eb09-4060-4bdb-a8ab-2a52bb3816e2",
   "metadata": {},
   "outputs": [
    {
     "name": "stdout",
     "output_type": "stream",
     "text": [
      "\t 회원가입 \t\n"
     ]
    },
    {
     "name": "stdin",
     "output_type": "stream",
     "text": [
      "ID :  abcd\n",
      "PW :  1234\n"
     ]
    },
    {
     "name": "stdout",
     "output_type": "stream",
     "text": [
      "ID: abcd\n",
      "PW: 1234\n",
      "login\n",
      "abcd : login success\n",
      "회원 탈퇴 완료\n"
     ]
    }
   ],
   "source": [
    "class Member:\n",
    "    def __init__(self, id, pw):\n",
    "        self.id = id\n",
    "        self.pw = pw\n",
    "\n",
    "class MemberRegister:\n",
    "    def __init__(self):\n",
    "        self.member = {}\n",
    "\n",
    "    def login(self, id, pw):\n",
    "        isMember = id in self.member # id가 member key에 존재하는지 boolean으로\n",
    "        \n",
    "        if isMember and self.member[id] == pw:\n",
    "            print(f'{id} : login success')\n",
    "            return True\n",
    "        else:\n",
    "            print(f'{id} : does not exist')\n",
    "            return False   \n",
    "\n",
    "    def viewMember(self):\n",
    "        for key in self.member.keys():\n",
    "            print(f'ID: {key}')\n",
    "            print(f'PW: {self.member[key]}')\n",
    "\n",
    "    def delMember(self, id, pw):\n",
    "        isMember = id in self.member\n",
    "        if isMember and self.member[id] == pw:\n",
    "            del self.member[id]\n",
    "            self.viewMember()\n",
    "        else:\n",
    "            print(f'{id} does not exist.')\n",
    "\n",
    "mRegister = MemberRegister()\n",
    "print('\\t 회원가입 \\t')\n",
    "\n",
    "id = input('ID : ')\n",
    "pw = input('PW : ')\n",
    "member = Member(id, pw)\n",
    "mRegister.member.update({member.id: member.pw})\n",
    "\n",
    "# 멤버 조회\n",
    "\n",
    "mRegister.viewMember()\n",
    "\n",
    "# 로그인\n",
    "print('login')\n",
    "while True:\n",
    "    if mRegister.login(id, pw):\n",
    "        break\n",
    "\n",
    "# 삭제\n",
    "mRegister.delMember(id, pw)\n",
    "print('회원 탈퇴 완료')"
   ]
  },
  {
   "cell_type": "code",
   "execution_count": 34,
   "id": "44a01f64-0652-42fe-ad68-41f80788fe75",
   "metadata": {},
   "outputs": [
    {
     "name": "stdout",
     "output_type": "stream",
     "text": [
      "객체가 생성 되었습니다.\n",
      "객체가 삭제 되었습니다.\n"
     ]
    }
   ],
   "source": [
    "class Person:\n",
    "    def __init__(self, name):\n",
    "        self.name = name\n",
    "        print(\"객체가 생성 되었습니다.\")\n",
    "    \n",
    "    def __del__(self):\n",
    "        print(\"객체가 삭제 되었습니다.\")\n",
    "\n",
    "p1 = Person(\"홍길동\")\n",
    "del p1\n",
    "\n",
    "# init은 생성자 // del 은 소멸자 // 객체 생성될 때 init 실행 // 객체 소멸할 때 del 실행"
   ]
  },
  {
   "cell_type": "code",
   "execution_count": 16,
   "id": "15f516af-afba-4c9f-b8ca-05f6277ac311",
   "metadata": {},
   "outputs": [],
   "source": [
    "class Animal:\n",
    "    def __init__(self, name):\n",
    "        self.name = name\n",
    "\n",
    "    def speak(self):\n",
    "        return f\"{self.name} says 꿀꿀\"\n",
    "\n",
    "class Dog(Animal):\n",
    "    def speak(self):\n",
    "        return f'{self.name} says 멍멍'\n",
    "\n",
    "    "
   ]
  },
  {
   "cell_type": "code",
   "execution_count": 46,
   "id": "27f255d1-296e-4edf-9832-21a345be75d6",
   "metadata": {},
   "outputs": [
    {
     "name": "stdout",
     "output_type": "stream",
     "text": [
      "동물 says 꿀꿀\n",
      "콩콩이 says 멍멍\n"
     ]
    }
   ],
   "source": [
    "animal1 = Animal('동물')\n",
    "print(animal1.speak())\n",
    "animal1.name = '콩콩이'\n",
    "\n",
    "animal2 = Dog(animal1.name)\n",
    "print(animal2.speak())\n",
    "\n",
    "# 클래스의 인스턴스 변수는 외부에서 수정이 가능하다.\n",
    "# method overiding : 부모 클래스에서 사용되던 메소드를 자식클래스가 상속받아 재정의해서 사용 가능하다\n",
    "# abstract classes : 추상 클래스는 자식 클래스에서 무조건 재정의해야 한다. 부모에서 pass 한 def"
   ]
  },
  {
   "cell_type": "code",
   "execution_count": 38,
   "id": "4cf2c961-c848-41ff-974f-bf511fc048e9",
   "metadata": {},
   "outputs": [
    {
     "name": "stdout",
     "output_type": "stream",
     "text": [
      "super를 이용해 부모 클래스 메서드에 접근\n"
     ]
    }
   ],
   "source": [
    "class Parent:\n",
    "    def show(self):\n",
    "        print(\"super를 이용해 부모 클래스 메서드에 접근\")\n",
    "\n",
    "class Child(Parent):\n",
    "    def show(self):\n",
    "        super().show()\n",
    "\n",
    "child = Child()\n",
    "child.show()"
   ]
  },
  {
   "cell_type": "code",
   "execution_count": 35,
   "id": "32779768-af93-4e37-bea1-d2d2113d6923",
   "metadata": {},
   "outputs": [
    {
     "name": "stdout",
     "output_type": "stream",
     "text": [
      "A\n",
      "C\n"
     ]
    }
   ],
   "source": [
    "class A:\n",
    "    def __init__(self):\n",
    "        print('A')\n",
    "\n",
    "class B:\n",
    "    def __init__(self):\n",
    "        print('B')\n",
    "\n",
    "class C(A, B):\n",
    "    def __init__(self):\n",
    "        super().__init__()\n",
    "        print(\"C\")\n",
    "\n",
    "obj = C()\n",
    "\n",
    "# 클래스 인스턴스 초기화가 필요없으면 __Init__ 함수 없이 클래스 작성 가능, 위 Animal, Dog 처럼.\n",
    "# super().__init__()으로 상속 init 함수 호출, 위 super로 부모 클래스 메서드 접근하는 것과 동일\n",
    "# 왜 B는 실행이 안되는것인가? 다중상속에서 자식이 부모 메서드에 접근하려고 하는데 만약 부모가 동일한 이름의\n",
    "# 함수를 가지고 있다면 상속 순서대로 실행하는 것인 것 같다."
   ]
  },
  {
   "cell_type": "code",
   "execution_count": 40,
   "id": "2ad2eec5-7fb3-463c-b0b4-0c5686e4d3df",
   "metadata": {},
   "outputs": [
    {
     "name": "stdout",
     "output_type": "stream",
     "text": [
      "A\n",
      "B\n",
      "C\n"
     ]
    }
   ],
   "source": [
    "class A:\n",
    "    def __init__(self):\n",
    "        print('A') # A 출력\n",
    "\n",
    "class B(A):\n",
    "    def __init__(self):\n",
    "        super().__init__() # Class A의 __init__ 실행\n",
    "        print('B') # B 출력 \n",
    "\n",
    "class C(B):\n",
    "    def __init__(self):\n",
    "        super().__init__() # Class B의 __INIT__ 실행\n",
    "        print(\"C\") # C 출력\n",
    "\n",
    "obj = C()"
   ]
  },
  {
   "cell_type": "code",
   "execution_count": null,
   "id": "9d9dfac5-a269-4420-8233-fc593580aca1",
   "metadata": {},
   "outputs": [],
   "source": []
  },
  {
   "cell_type": "code",
   "execution_count": null,
   "id": "8b982ff5-7c79-48e6-84c2-ef571d29cad0",
   "metadata": {},
   "outputs": [],
   "source": []
  },
  {
   "cell_type": "code",
   "execution_count": null,
   "id": "764d43a8-6de4-436f-9fcf-bb7d19695d9f",
   "metadata": {},
   "outputs": [],
   "source": []
  }
 ],
 "metadata": {
  "kernelspec": {
   "display_name": "Python 3 (ipykernel)",
   "language": "python",
   "name": "python3"
  },
  "language_info": {
   "codemirror_mode": {
    "name": "ipython",
    "version": 3
   },
   "file_extension": ".py",
   "mimetype": "text/x-python",
   "name": "python",
   "nbconvert_exporter": "python",
   "pygments_lexer": "ipython3",
   "version": "3.8.18"
  }
 },
 "nbformat": 4,
 "nbformat_minor": 5
}
