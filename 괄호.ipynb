{
 "cells": [
  {
   "cell_type": "code",
   "execution_count": 16,
   "id": "80e5d7a3-8c6a-4831-8c7d-69079ec0a919",
   "metadata": {},
   "outputs": [],
   "source": [
    "import numpy as np"
   ]
  },
  {
   "cell_type": "code",
   "execution_count": 15,
   "id": "9dab64f1-0ef1-4490-afab-52036e94c7ee",
   "metadata": {},
   "outputs": [
    {
     "name": "stdin",
     "output_type": "stream",
     "text": [
      " 1\n",
      " ())(\n"
     ]
    },
    {
     "name": "stdout",
     "output_type": "stream",
     "text": [
      "[-1]\n",
      "No\n"
     ]
    }
   ],
   "source": [
    "a = int(input())\n",
    "result = []\n",
    "for i in range(a):\n",
    "    string = input()\n",
    "    list = string\n",
    "    list_len = len(list)\n",
    "    b = 0\n",
    "    for j in range(list_len):\n",
    "        if list[j] == '(':\n",
    "            b += 1\n",
    "        elif list[j] == ')':\n",
    "            b -= 1\n",
    "        if b < 0:\n",
    "            break\n",
    "    result.append(int(b))\n",
    "\n",
    "print(result)\n",
    "for i in range(len(result)):\n",
    "    if result[i] == 0:\n",
    "        print('YES')\n",
    "    else:\n",
    "        print('NO')\n",
    "    \n",
    "    "
   ]
  }
 ],
 "metadata": {
  "kernelspec": {
   "display_name": "Python 3 (ipykernel)",
   "language": "python",
   "name": "python3"
  },
  "language_info": {
   "codemirror_mode": {
    "name": "ipython",
    "version": 3
   },
   "file_extension": ".py",
   "mimetype": "text/x-python",
   "name": "python",
   "nbconvert_exporter": "python",
   "pygments_lexer": "ipython3",
   "version": "3.8.18"
  }
 },
 "nbformat": 4,
 "nbformat_minor": 5
}
