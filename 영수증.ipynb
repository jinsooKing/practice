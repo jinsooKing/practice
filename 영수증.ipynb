{
 "cells": [
  {
   "cell_type": "code",
   "execution_count": 33,
   "id": "b8aaf1e0-88f3-492f-afd0-71ca3c804451",
   "metadata": {},
   "outputs": [
    {
     "name": "stdin",
     "output_type": "stream",
     "text": [
      " 26000\n",
      " 4\n",
      " 20000 5\n",
      " 30000 2\n",
      " 10000 6\n",
      " 5000 8\n"
     ]
    },
    {
     "name": "stdout",
     "output_type": "stream",
     "text": [
      "No\n"
     ]
    }
   ],
   "source": [
    "X = input()\n",
    "X = int(X)\n",
    "\n",
    "N = input()\n",
    "N = int(N)\n",
    "\n",
    "total = []\n",
    "total_price = 0\n",
    "\n",
    "for i in range(N):\n",
    "    a, b = map(int, input().split( ))\n",
    "    a = int(a)\n",
    "    b = int(b)\n",
    "\n",
    "    total.append(a*b)\n",
    "\n",
    "total_price = sum(total)\n",
    "\n",
    "if total_price == X:\n",
    "    print('Yes')\n",
    "else:\n",
    "    print('No')"
   ]
  },
  {
   "cell_type": "code",
   "execution_count": null,
   "id": "444dba8c-f7e4-41e4-a64c-b3169615cf98",
   "metadata": {},
   "outputs": [],
   "source": []
  }
 ],
 "metadata": {
  "kernelspec": {
   "display_name": "Python 3 (ipykernel)",
   "language": "python",
   "name": "python3"
  },
  "language_info": {
   "codemirror_mode": {
    "name": "ipython",
    "version": 3
   },
   "file_extension": ".py",
   "mimetype": "text/x-python",
   "name": "python",
   "nbconvert_exporter": "python",
   "pygments_lexer": "ipython3",
   "version": "3.8.18"
  }
 },
 "nbformat": 4,
 "nbformat_minor": 5
}
