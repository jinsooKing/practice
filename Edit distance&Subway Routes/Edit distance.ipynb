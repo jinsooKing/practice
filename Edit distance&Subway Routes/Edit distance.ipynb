{
 "cells": [
  {
   "cell_type": "code",
   "execution_count": 1,
   "id": "bb0bf12c",
   "metadata": {},
   "outputs": [],
   "source": [
    "import numpy as np"
   ]
  },
  {
   "cell_type": "code",
   "execution_count": 2,
   "id": "ec05f96c",
   "metadata": {},
   "outputs": [],
   "source": [
    "# we have three operation\n",
    "# 1) Insert\n",
    "# 2) Delete\n",
    "# 3) Replace\n",
    "\n",
    "# we have two strings str1, str2\n",
    "\n",
    "# we want to return the minimum number of operations \n",
    "# required to convert str1 -> str2"
   ]
  },
  {
   "cell_type": "code",
   "execution_count": 3,
   "id": "0e257f8a",
   "metadata": {},
   "outputs": [],
   "source": [
    "# A[i][j]의 의미 : 0~i번째 문자열을 0~j로 바꾸려면 몇 번이 필요할까요 \n",
    "\n",
    "def editDistance(str1, str2):\n",
    "    list1 = list(str1)\n",
    "    list2 = list(str2)\n",
    "    \n",
    "    n = len(list1)\n",
    "    m = len(list2)\n",
    "    \n",
    "    A = np.zeros((n+1, m+1))\n",
    "\n",
    "    for i in range(n+1):\n",
    "        A[i][0] = i\n",
    "        \n",
    "    for j in range(m+1):\n",
    "        A[0][j] = j\n",
    "\n",
    "    for i in range(1, n+1):\n",
    "        for j in range(1, m+1):\n",
    "            if list1[i-1] == list2[j-1]:\n",
    "                A[i][j] = A[i-1][j-1]\n",
    "            else:\n",
    "                A[i][j] = min(A[i-1][j], A[i][j-1], A[i-1][j-1]) + 1\n",
    "                \n",
    "    return int(A[n][m])"
   ]
  },
  {
   "cell_type": "code",
   "execution_count": 4,
   "id": "6919c690",
   "metadata": {},
   "outputs": [
    {
     "name": "stdout",
     "output_type": "stream",
     "text": [
      "str1 -> str2\n",
      "str1: cat\n",
      "str2: category\n",
      "Edit distance between 'cat' and 'category' is 5\n"
     ]
    }
   ],
   "source": [
    "if __name__ == \"__main__\":\n",
    "    print(\"str1 -> str2\")\n",
    "    str1 = input(\"str1: \")\n",
    "    str2 = input(\"str2: \")\n",
    "\n",
    "    result = editDistance(str1, str2)\n",
    "    print(f\"Edit distance between '{str1}' and '{str2}' is {result}\")"
   ]
  },
  {
   "cell_type": "code",
   "execution_count": null,
   "id": "30fcbd2d",
   "metadata": {},
   "outputs": [],
   "source": []
  }
 ],
 "metadata": {
  "kernelspec": {
   "display_name": "Python 3 (ipykernel)",
   "language": "python",
   "name": "python3"
  },
  "language_info": {
   "codemirror_mode": {
    "name": "ipython",
    "version": 3
   },
   "file_extension": ".py",
   "mimetype": "text/x-python",
   "name": "python",
   "nbconvert_exporter": "python",
   "pygments_lexer": "ipython3",
   "version": "3.8.18"
  }
 },
 "nbformat": 4,
 "nbformat_minor": 5
}
