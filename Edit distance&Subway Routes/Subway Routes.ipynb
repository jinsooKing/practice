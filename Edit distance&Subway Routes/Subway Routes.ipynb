{
 "cells": [
  {
   "cell_type": "code",
   "execution_count": 17,
   "id": "b9067712",
   "metadata": {},
   "outputs": [],
   "source": [
    "# map[0]=[0, 2, 4], this means that the 0th subway travels in the sequence of \n",
    "# metro stations 0->2->4->0->2->4->0->…. "
   ]
  },
  {
   "cell_type": "code",
   "execution_count": 18,
   "id": "4eac4c92",
   "metadata": {},
   "outputs": [],
   "source": [
    "# Return the least number of subway you must take to from source to destination. \n",
    "# Return -1 if it is not possible."
   ]
  },
  {
   "cell_type": "code",
   "execution_count": 25,
   "id": "a75799ae",
   "metadata": {},
   "outputs": [],
   "source": [
    "import numpy as np"
   ]
  },
  {
   "cell_type": "code",
   "execution_count": 26,
   "id": "e23c0002",
   "metadata": {},
   "outputs": [],
   "source": [
    "def numRoutes(_map, source, destination):\n",
    "    graph = {} \n",
    "    subway_count = {} \n",
    "\n",
    "    for i, subway in enumerate(_map):\n",
    "        for j in range(len(subway) - 1):\n",
    "            current_station = subway[j]\n",
    "            if current_station not in graph:\n",
    "                graph[current_station] = []\n",
    "                subway_count[current_station] = set()\n",
    "            graph[current_station].append(subway[j + 1])\n",
    "            subway_count[current_station].add(i)\n",
    "\n",
    "        first_station = subway[0]\n",
    "        last_station = subway[-1]\n",
    "        if last_station not in graph:\n",
    "            graph[last_station] = []\n",
    "            subway_count[last_station] = set()\n",
    "        graph[last_station].append(first_station)\n",
    "        subway_count[last_station].add(i)\n",
    "\n",
    "    # 거리, 이전 역, 사용된 지하철 노선\n",
    "    dist = {node: float('inf') for node in graph}\n",
    "    dist[source] = 0\n",
    "    prev = {node: None for node in graph}\n",
    "    subway = {node: set() for node in graph}\n",
    "\n",
    "    # 벨만 포드\n",
    "    for _ in range(len(_map) - 1):\n",
    "        for u in graph:\n",
    "            for v in graph[u]:\n",
    "                if dist[u] != float('inf') and dist[u] + 1 < dist[v]:\n",
    "                    dist[v] = dist[u] + 1\n",
    "                    prev[v] = u\n",
    "                    subway[v] = subway[u].union(subway_count[v])\n",
    "\n",
    "    # source -> destination 까지 path가 없으면 -1\n",
    "    if dist[destination] == float('inf'):\n",
    "        return -1\n",
    "    else: # 있으면 사용된 지하철 개수 계산하고 출력\n",
    "        num_subway = len(subway[destination])\n",
    "        return print(\"이용된 지하철 개수 : \" + str(num_subway) + \"개\")"
   ]
  },
  {
   "cell_type": "code",
   "execution_count": 27,
   "id": "dd723706",
   "metadata": {},
   "outputs": [
    {
     "name": "stdout",
     "output_type": "stream",
     "text": [
      "ex) 1,2,7 입력 후 3,6,7 입력 후 done 입력 --->> map = [[1,2,7],[3,6,7]]\n"
     ]
    },
    {
     "ename": "KeyboardInterrupt",
     "evalue": "Interrupted by user",
     "output_type": "error",
     "traceback": [
      "\u001b[1;31m---------------------------------------------------------------------------\u001b[0m",
      "\u001b[1;31mKeyboardInterrupt\u001b[0m                         Traceback (most recent call last)",
      "\u001b[1;32m~\\AppData\\Local\\Temp/ipykernel_25908/345916715.py\u001b[0m in \u001b[0;36m<module>\u001b[1;34m\u001b[0m\n\u001b[0;32m      3\u001b[0m     \u001b[0mprint\u001b[0m\u001b[1;33m(\u001b[0m\u001b[1;34m\"ex) 1,2,7 입력 후 3,6,7 입력 후 done 입력 --->> map = [[1,2,7],[3,6,7]]\"\u001b[0m\u001b[1;33m)\u001b[0m\u001b[1;33m\u001b[0m\u001b[1;33m\u001b[0m\u001b[0m\n\u001b[0;32m      4\u001b[0m     \u001b[1;32mwhile\u001b[0m \u001b[1;36m1\u001b[0m\u001b[1;33m:\u001b[0m\u001b[1;33m\u001b[0m\u001b[1;33m\u001b[0m\u001b[0m\n\u001b[1;32m----> 5\u001b[1;33m         \u001b[0msubway\u001b[0m \u001b[1;33m=\u001b[0m \u001b[0minput\u001b[0m\u001b[1;33m(\u001b[0m\u001b[1;34m\"지하철 노선 입력(done입력시 종료) : \"\u001b[0m\u001b[1;33m)\u001b[0m\u001b[1;33m\u001b[0m\u001b[1;33m\u001b[0m\u001b[0m\n\u001b[0m\u001b[0;32m      6\u001b[0m         \u001b[1;32mif\u001b[0m \u001b[0msubway\u001b[0m\u001b[1;33m.\u001b[0m\u001b[0mlower\u001b[0m\u001b[1;33m(\u001b[0m\u001b[1;33m)\u001b[0m \u001b[1;33m==\u001b[0m \u001b[1;34m'done'\u001b[0m\u001b[1;33m:\u001b[0m\u001b[1;33m\u001b[0m\u001b[1;33m\u001b[0m\u001b[0m\n\u001b[0;32m      7\u001b[0m             \u001b[1;32mbreak\u001b[0m\u001b[1;33m\u001b[0m\u001b[1;33m\u001b[0m\u001b[0m\n",
      "\u001b[1;32m~\\anaconda3\\envs\\class\\lib\\site-packages\\ipykernel\\kernelbase.py\u001b[0m in \u001b[0;36mraw_input\u001b[1;34m(self, prompt)\u001b[0m\n\u001b[0;32m   1008\u001b[0m             \u001b[0mself\u001b[0m\u001b[1;33m.\u001b[0m\u001b[0m_parent_ident\u001b[0m\u001b[1;33m[\u001b[0m\u001b[1;34m\"shell\"\u001b[0m\u001b[1;33m]\u001b[0m\u001b[1;33m,\u001b[0m\u001b[1;33m\u001b[0m\u001b[1;33m\u001b[0m\u001b[0m\n\u001b[0;32m   1009\u001b[0m             \u001b[0mself\u001b[0m\u001b[1;33m.\u001b[0m\u001b[0mget_parent\u001b[0m\u001b[1;33m(\u001b[0m\u001b[1;34m\"shell\"\u001b[0m\u001b[1;33m)\u001b[0m\u001b[1;33m,\u001b[0m\u001b[1;33m\u001b[0m\u001b[1;33m\u001b[0m\u001b[0m\n\u001b[1;32m-> 1010\u001b[1;33m             \u001b[0mpassword\u001b[0m\u001b[1;33m=\u001b[0m\u001b[1;32mFalse\u001b[0m\u001b[1;33m,\u001b[0m\u001b[1;33m\u001b[0m\u001b[1;33m\u001b[0m\u001b[0m\n\u001b[0m\u001b[0;32m   1011\u001b[0m         )\n\u001b[0;32m   1012\u001b[0m \u001b[1;33m\u001b[0m\u001b[0m\n",
      "\u001b[1;32m~\\anaconda3\\envs\\class\\lib\\site-packages\\ipykernel\\kernelbase.py\u001b[0m in \u001b[0;36m_input_request\u001b[1;34m(self, prompt, ident, parent, password)\u001b[0m\n\u001b[0;32m   1049\u001b[0m             \u001b[1;32mexcept\u001b[0m \u001b[0mKeyboardInterrupt\u001b[0m\u001b[1;33m:\u001b[0m\u001b[1;33m\u001b[0m\u001b[1;33m\u001b[0m\u001b[0m\n\u001b[0;32m   1050\u001b[0m                 \u001b[1;31m# re-raise KeyboardInterrupt, to truncate traceback\u001b[0m\u001b[1;33m\u001b[0m\u001b[1;33m\u001b[0m\u001b[1;33m\u001b[0m\u001b[0m\n\u001b[1;32m-> 1051\u001b[1;33m                 \u001b[1;32mraise\u001b[0m \u001b[0mKeyboardInterrupt\u001b[0m\u001b[1;33m(\u001b[0m\u001b[1;34m\"Interrupted by user\"\u001b[0m\u001b[1;33m)\u001b[0m \u001b[1;32mfrom\u001b[0m \u001b[1;32mNone\u001b[0m\u001b[1;33m\u001b[0m\u001b[1;33m\u001b[0m\u001b[0m\n\u001b[0m\u001b[0;32m   1052\u001b[0m             \u001b[1;32mexcept\u001b[0m \u001b[0mException\u001b[0m\u001b[1;33m:\u001b[0m\u001b[1;33m\u001b[0m\u001b[1;33m\u001b[0m\u001b[0m\n\u001b[0;32m   1053\u001b[0m                 \u001b[0mself\u001b[0m\u001b[1;33m.\u001b[0m\u001b[0mlog\u001b[0m\u001b[1;33m.\u001b[0m\u001b[0mwarning\u001b[0m\u001b[1;33m(\u001b[0m\u001b[1;34m\"Invalid Message:\"\u001b[0m\u001b[1;33m,\u001b[0m \u001b[0mexc_info\u001b[0m\u001b[1;33m=\u001b[0m\u001b[1;32mTrue\u001b[0m\u001b[1;33m)\u001b[0m\u001b[1;33m\u001b[0m\u001b[1;33m\u001b[0m\u001b[0m\n",
      "\u001b[1;31mKeyboardInterrupt\u001b[0m: Interrupted by user"
     ]
    }
   ],
   "source": [
    "if __name__ == \"__main__\":\n",
    "    _map = []\n",
    "    print(\"ex) 1,2,7 입력 후 3,6,7 입력 후 done 입력 --->> map = [[1,2,7],[3,6,7]]\")\n",
    "    while 1:\n",
    "        subway = input(\"지하철 노선 입력(done입력시 종료) : \")\n",
    "        if subway.lower() == 'done':\n",
    "            break\n",
    "        _map.append([int(station) for station in subway.split()])\n",
    "    \n",
    "    source = int(input(\"시작점 : \"))\n",
    "    destination = int(input(\"목적지 : \"))\n",
    "    \n",
    "    result = numRoutes(_map, source, destination)\n",
    "    print(result)"
   ]
  },
  {
   "cell_type": "code",
   "execution_count": null,
   "id": "95800a44",
   "metadata": {},
   "outputs": [],
   "source": []
  }
 ],
 "metadata": {
  "kernelspec": {
   "display_name": "Python 3 (ipykernel)",
   "language": "python",
   "name": "python3"
  },
  "language_info": {
   "codemirror_mode": {
    "name": "ipython",
    "version": 3
   },
   "file_extension": ".py",
   "mimetype": "text/x-python",
   "name": "python",
   "nbconvert_exporter": "python",
   "pygments_lexer": "ipython3",
   "version": "3.8.18"
  }
 },
 "nbformat": 4,
 "nbformat_minor": 5
}
