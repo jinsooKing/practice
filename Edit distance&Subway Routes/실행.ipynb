{
 "cells": [
  {
   "cell_type": "code",
   "execution_count": 7,
   "id": "b076e515",
   "metadata": {},
   "outputs": [
    {
     "name": "stdout",
     "output_type": "stream",
     "text": [
      "'cat'와(과) 'dog' 사이의 편집 거리는 3입니다.\n",
      "'cat'와(과) 'category' 사이의 편집 거리는 5입니다.\n"
     ]
    }
   ],
   "source": [
    "!python problem2.py"
   ]
  },
  {
   "cell_type": "code",
   "execution_count": 6,
   "id": "61418d15",
   "metadata": {},
   "outputs": [
    {
     "name": "stdout",
     "output_type": "stream",
     "text": [
      "[[1, 2, 7], [3, 6, 7]]이 이용한 지하철의 개수는 2개 입니다.\n",
      "[[7, 12], [4, 5, 15], [6], [15, 19], [9, 12, 13]]이 이용한 지하철의 개수는 -1개 입니다.\n"
     ]
    }
   ],
   "source": [
    "!python problem3.py"
   ]
  },
  {
   "cell_type": "code",
   "execution_count": null,
   "id": "59f47524",
   "metadata": {},
   "outputs": [],
   "source": []
  }
 ],
 "metadata": {
  "kernelspec": {
   "display_name": "Python 3 (ipykernel)",
   "language": "python",
   "name": "python3"
  },
  "language_info": {
   "codemirror_mode": {
    "name": "ipython",
    "version": 3
   },
   "file_extension": ".py",
   "mimetype": "text/x-python",
   "name": "python",
   "nbconvert_exporter": "python",
   "pygments_lexer": "ipython3",
   "version": "3.7.11"
  }
 },
 "nbformat": 4,
 "nbformat_minor": 5
}
