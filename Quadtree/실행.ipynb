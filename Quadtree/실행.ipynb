{
 "cells": [
  {
   "cell_type": "code",
   "execution_count": 3,
   "id": "5831532e",
   "metadata": {},
   "outputs": [
    {
     "name": "stdout",
     "output_type": "stream",
     "text": [
      "(0, Leaf: False) [(1, Leaf: True) [] (0, Leaf: False) [(0, Leaf: True) [] (0, Leaf: False) [(0, Leaf: True) [] (0, Leaf: True) [] (1, Leaf: True) [] (0, Leaf: True) [] ] (1, Leaf: True) [] (0, Leaf: True) [] ] (1, Leaf: True) [] (0, Leaf: False) [(0, Leaf: True) [] (0, Leaf: True) [] (0, Leaf: True) [] (1, Leaf: True) [] ] ] \n",
      "(1(0(0010)10)1(0001))\n",
      "(0, Leaf: False) [(0, Leaf: False) [(1, Leaf: True) [] (1, Leaf: True) [] (0, Leaf: True) [] (0, Leaf: False) [(0, Leaf: True) [] (1, Leaf: True) [] (0, Leaf: True) [] (1, Leaf: True) [] ] ] (0, Leaf: False) [(0, Leaf: True) [] (0, Leaf: True) [] (1, Leaf: True) [] (0, Leaf: True) [] ] (1, Leaf: True) [] (0, Leaf: False) [(0, Leaf: True) [] (0, Leaf: True) [] (0, Leaf: True) [] (1, Leaf: True) [] ] ] \n",
      "((110(0101))(0010)1(0001))\n",
      "(0, Leaf: False) [(1, Leaf: True) [] (0, Leaf: False) [(0, Leaf: True) [] (1, Leaf: True) [] (1, Leaf: True) [] (0, Leaf: True) [] ] (1, Leaf: True) [] (0, Leaf: False) [(1, Leaf: True) [] (1, Leaf: True) [] (0, Leaf: True) [] (1, Leaf: True) [] ] ] \n",
      "(1(0110)1(1101))\n",
      "(0, Leaf: False) [(1, Leaf: True) [] (1, Leaf: True) [] (1, Leaf: True) [] (0, Leaf: False) [(1, Leaf: True) [] (1, Leaf: True) [] (0, Leaf: True) [] (1, Leaf: True) [] ] ] \n",
      "(111(1101))\n",
      "(0, Leaf: False) [(1, Leaf: True) [] (0, Leaf: False) [(0, Leaf: False) [(0, Leaf: False) [(1, Leaf: True) [] (0, Leaf: True) [] (0, Leaf: True) [] (0, Leaf: True) [] ] (0, Leaf: True) [] (0, Leaf: True) [] (0, Leaf: True) [] ] (0, Leaf: False) [(0, Leaf: True) [] (0, Leaf: True) [] (0, Leaf: True) [] (1, Leaf: True) [] ] (0, Leaf: True) [] (0, Leaf: True) [] ] (0, Leaf: False) [(1, Leaf: True) [] (0, Leaf: False) [(0, Leaf: True) [] (1, Leaf: True) [] (0, Leaf: True) [] (0, Leaf: True) [] ] (0, Leaf: True) [] (0, Leaf: True) [] ] (0, Leaf: False) [(0, Leaf: True) [] (0, Leaf: True) [] (0, Leaf: False) [(0, Leaf: True) [] (1, Leaf: True) [] (0, Leaf: True) [] (1, Leaf: True) [] ] (1, Leaf: True) [] ] ] \n",
      "(1(((1000)000)(0001)00)(1(0100)00)(00(0101)1))\n",
      "(0, Leaf: False) [(1, Leaf: True) [] (0, Leaf: False) [(1, Leaf: True) [] (0, Leaf: False) [(0, Leaf: False) [(1, Leaf: True) [] (1, Leaf: True) [] (1, Leaf: True) [] (0, Leaf: True) [] ] (0, Leaf: True) [] (0, Leaf: True) [] (0, Leaf: True) [] ] (0, Leaf: True) [] (0, Leaf: True) [] ] (0, Leaf: False) [(1, Leaf: True) [] (0, Leaf: False) [(1, Leaf: True) [] (0, Leaf: True) [] (0, Leaf: True) [] (0, Leaf: True) [] ] (0, Leaf: False) [(0, Leaf: False) [(1, Leaf: True) [] (0, Leaf: True) [] (1, Leaf: True) [] (0, Leaf: True) [] ] (0, Leaf: True) [] (0, Leaf: True) [] (0, Leaf: True) [] ] (0, Leaf: True) [] ] (0, Leaf: True) [] ] \n",
      "(1(1((1110)000)00)(1(1000)((1010)000)0)0)\n"
     ]
    }
   ],
   "source": [
    "!python test_quadtree.py"
   ]
  },
  {
   "cell_type": "code",
   "execution_count": null,
   "id": "881789c2-9a60-465e-b229-68e3883ba48e",
   "metadata": {},
   "outputs": [],
   "source": [
    "1. n*n 의 격자를 만들고 이웃끼리 간선을 추가한다. n*n개의 격자는 입력 k개 만큼의 starting point를 갖는다.\n",
    "2. 소스노드 s와 싱크노드 t를 만든다.\n",
    "3. s와 starting point 노드 사이에 간선을 추가하고 t와 격자의 경계 사이에 간선을 추가한다.\n",
    "4. 모든 간선의 용량을 1로 가정하고 maximum flow를 구했을 때, max_flow == k라면 True를 출력하고 아니라면 False를 출력한다."
   ]
  }
 ],
 "metadata": {
  "kernelspec": {
   "display_name": "Python 3 (ipykernel)",
   "language": "python",
   "name": "python3"
  },
  "language_info": {
   "codemirror_mode": {
    "name": "ipython",
    "version": 3
   },
   "file_extension": ".py",
   "mimetype": "text/x-python",
   "name": "python",
   "nbconvert_exporter": "python",
   "pygments_lexer": "ipython3",
   "version": "3.8.18"
  }
 },
 "nbformat": 4,
 "nbformat_minor": 5
}
