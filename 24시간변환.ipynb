{
 "cells": [
  {
   "cell_type": "code",
   "execution_count": 66,
   "id": "0ea8bdaa-ac48-41e2-a9de-b1e4fbab6eae",
   "metadata": {},
   "outputs": [
    {
     "name": "stdin",
     "output_type": "stream",
     "text": [
      " 17 13\n",
      " 930\n"
     ]
    },
    {
     "name": "stdout",
     "output_type": "stream",
     "text": [
      "8 43\n"
     ]
    }
   ],
   "source": [
    "input_str = input()\n",
    "A, B = input_str.split( )\n",
    "C = input()\n",
    "\n",
    "input_list = [A, B, C]\n",
    "\n",
    "A, B, C = map(lambda x:int(x), input_list)\n",
    "\n",
    "hour = A\n",
    "minute = B + C\n",
    "\n",
    "if minute >= 60:\n",
    "    hour += minute//60\n",
    "    minute %= 60\n",
    "else:\n",
    "    hour = hour\n",
    "    minute = minute\n",
    "    \n",
    "if hour>=24:\n",
    "    hour %= 24\n",
    "\n",
    "\n",
    "print(f\"{hour} {minute}\")\n"
   ]
  },
  {
   "cell_type": "code",
   "execution_count": null,
   "id": "b06ec57d-da6b-41fa-a8c5-bcce8e8f70fd",
   "metadata": {},
   "outputs": [],
   "source": []
  }
 ],
 "metadata": {
  "kernelspec": {
   "display_name": "Python 3 (ipykernel)",
   "language": "python",
   "name": "python3"
  },
  "language_info": {
   "codemirror_mode": {
    "name": "ipython",
    "version": 3
   },
   "file_extension": ".py",
   "mimetype": "text/x-python",
   "name": "python",
   "nbconvert_exporter": "python",
   "pygments_lexer": "ipython3",
   "version": "3.8.18"
  }
 },
 "nbformat": 4,
 "nbformat_minor": 5
}
